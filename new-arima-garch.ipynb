{
 "cells": [
  {
   "cell_type": "code",
   "execution_count": 97,
   "metadata": {},
   "outputs": [
    {
     "name": "stdout",
     "output_type": "stream",
     "text": [
      "[*********************100%%**********************]  1 of 1 completed\n"
     ]
    },
    {
     "name": "stderr",
     "output_type": "stream",
     "text": [
      "C:\\Users\\surya\\AppData\\Roaming\\Python\\Python311\\site-packages\\yfinance\\utils.py:788: FutureWarning: The 'unit' keyword in TimedeltaIndex construction is deprecated and will be removed in a future version. Use pd.to_timedelta instead.\n",
      "  df.index += _pd.TimedeltaIndex(dst_error_hours, 'h')\n"
     ]
    }
   ],
   "source": [
    "import yfinance as yf\n",
    "import numpy as np\n",
    "import pandas as pd\n",
    "from pmdarima.arima import auto_arima\n",
    "from arch import arch_model\n",
    "import matplotlib.pyplot as plt\n",
    "from datetime import datetime\n",
    "\n",
    "symbol = 'NVDA'\n",
    "\n",
    "# Fetching data\n",
    "spy_data = yf.download(symbol, start=\"2022-03-29\", end=\"2024-03-29\")\n",
    "\n",
    "test_size = 100\n",
    "train = spy_data['Close'][:-test_size]\n",
    "test = spy_data['Close'][-test_size:]\n",
    "\n",
    "returns = train.pct_change().dropna()\n",
    "returns *= 100\n"
   ]
  },
  {
   "cell_type": "code",
   "execution_count": 98,
   "metadata": {},
   "outputs": [
    {
     "name": "stdout",
     "output_type": "stream",
     "text": [
      "Performing stepwise search to minimize aic\n",
      " ARIMA(2,1,2)(0,0,0)[0] intercept   : AIC=inf, Time=0.42 sec\n",
      " ARIMA(0,1,0)(0,0,0)[0] intercept   : AIC=2444.936, Time=0.02 sec\n",
      " ARIMA(1,1,0)(0,0,0)[0] intercept   : AIC=2333.803, Time=0.06 sec\n",
      " ARIMA(0,1,1)(0,0,0)[0] intercept   : AIC=2173.761, Time=0.10 sec\n",
      " ARIMA(0,1,0)(0,0,0)[0]             : AIC=2442.939, Time=0.02 sec\n",
      " ARIMA(1,1,1)(0,0,0)[0] intercept   : AIC=2175.731, Time=0.20 sec\n",
      " ARIMA(0,1,2)(0,0,0)[0] intercept   : AIC=2175.730, Time=0.17 sec\n",
      " ARIMA(1,1,2)(0,0,0)[0] intercept   : AIC=inf, Time=0.24 sec\n",
      " ARIMA(0,1,1)(0,0,0)[0]             : AIC=2172.553, Time=0.05 sec\n",
      " ARIMA(1,1,1)(0,0,0)[0]             : AIC=2174.506, Time=0.07 sec\n",
      " ARIMA(0,1,2)(0,0,0)[0]             : AIC=2174.504, Time=0.07 sec\n",
      " ARIMA(1,1,0)(0,0,0)[0]             : AIC=2331.813, Time=0.02 sec\n",
      " ARIMA(1,1,2)(0,0,0)[0]             : AIC=2175.404, Time=0.11 sec\n",
      "\n",
      "Best model:  ARIMA(0,1,1)(0,0,0)[0]          \n",
      "Total fit time: 1.561 seconds\n"
     ]
    },
    {
     "data": {
      "text/plain": [
       "(0, 1, 1)"
      ]
     },
     "execution_count": 98,
     "metadata": {},
     "output_type": "execute_result"
    }
   ],
   "source": [
    "# Fitting ARIMA model\n",
    "arima_model = auto_arima(returns, seasonal=False, trace=True)\n",
    "arima_residuals = arima_model.resid()\n",
    "arima_model.order"
   ]
  },
  {
   "cell_type": "code",
   "execution_count": 99,
   "metadata": {},
   "outputs": [
    {
     "name": "stdout",
     "output_type": "stream",
     "text": [
      "Iteration:      1,   Func. Count:      6,   Neg. LLF: 1496.5180336534208\n",
      "Iteration:      2,   Func. Count:     14,   Neg. LLF: 1100.4835493621158\n",
      "Iteration:      3,   Func. Count:     21,   Neg. LLF: 1086.012319142263\n",
      "Iteration:      4,   Func. Count:     26,   Neg. LLF: 1085.6643651038073\n",
      "Iteration:      5,   Func. Count:     31,   Neg. LLF: 1080.9755880949115\n",
      "Iteration:      6,   Func. Count:     36,   Neg. LLF: 302323689.0714041\n",
      "Iteration:      7,   Func. Count:     46,   Neg. LLF: 1941.10123541118\n",
      "Iteration:      8,   Func. Count:     53,   Neg. LLF: 1080.9254836060204\n",
      "Iteration:      9,   Func. Count:     58,   Neg. LLF: 245488106.4451428\n",
      "Optimization terminated successfully    (Exit mode 0)\n",
      "            Current function value: 1080.9254823951965\n",
      "            Iterations: 11\n",
      "            Function evaluations: 65\n",
      "            Gradient evaluations: 9\n"
     ]
    }
   ],
   "source": [
    "garch = arch_model(arima_residuals, p=1, q=1)\n",
    "garch_fit = garch.fit() \n"
   ]
  },
  {
   "cell_type": "code",
   "execution_count": 100,
   "metadata": {},
   "outputs": [
    {
     "name": "stdout",
     "output_type": "stream",
     "text": [
      "0.3601806238512214\n",
      "Predicted price: 436.62699937192735\n",
      "Actual price: 450.04998779296875\n"
     ]
    },
    {
     "name": "stderr",
     "output_type": "stream",
     "text": [
      "C:\\Users\\surya\\AppData\\Roaming\\Python\\Python311\\site-packages\\statsmodels\\tsa\\base\\tsa_model.py:836: ValueWarning: No supported index is available. Prediction results will be given with an integer index beginning at `start`.\n",
      "  return get_prediction_index(\n",
      "C:\\Users\\surya\\AppData\\Roaming\\Python\\Python311\\site-packages\\statsmodels\\tsa\\base\\tsa_model.py:836: FutureWarning: No supported index is available. In the next version, calling this method in a model without a supported index will result in an exception.\n",
      "  return get_prediction_index(\n"
     ]
    }
   ],
   "source": [
    "predicted_mu = arima_model.predict(n_periods=1).item()\n",
    "garch_forecast = garch_fit.forecast(horizon=1)\n",
    "predicted_et = garch_forecast.mean['h.1'].iloc[-1]\n",
    "prediction = predicted_mu + predicted_et\n",
    "print(prediction)\n",
    "predicted_price = train.iloc[-1] * (1 + prediction / 100)\n",
    "print(f'Predicted price: {predicted_price}')\n",
    "actual_price = test.iloc[0]\n",
    "print(f'Actual price: {actual_price}')\n"
   ]
  },
  {
   "cell_type": "code",
   "execution_count": 68,
   "metadata": {},
   "outputs": [],
   "source": [
    "from statsmodels.graphics.tsaplots import plot_pacf, plot_acf\n",
    "\n",
    "def pacf(col):\n",
    "    fig, (ax1,ax2) = plt.subplots(1,2, figsize=(15,5))\n",
    "    ax1.plot(col)\n",
    "    ax1.set_title('The Column Diff')\n",
    "    plot_pacf(col, method='ywm', ax=ax2)\n",
    "    \n",
    "\n",
    "def acf(col):\n",
    "    fig, (ax1,ax2) = plt.subplots(1,2, figsize=(15,5))\n",
    "    ax1.plot(col)\n",
    "    ax1.set_title('The Column Diff')\n",
    "    plot_acf(col, ax=ax2)"
   ]
  },
  {
   "cell_type": "code",
   "execution_count": 69,
   "metadata": {},
   "outputs": [
    {
     "data": {
      "text/plain": [
       "(0, 1, 1)"
      ]
     },
     "execution_count": 69,
     "metadata": {},
     "output_type": "execute_result"
    }
   ],
   "source": [
    "arima_model.order"
   ]
  },
  {
   "cell_type": "code",
   "execution_count": null,
   "metadata": {},
   "outputs": [],
   "source": []
  }
 ],
 "metadata": {
  "kernelspec": {
   "display_name": "Python 3",
   "language": "python",
   "name": "python3"
  },
  "language_info": {
   "codemirror_mode": {
    "name": "ipython",
    "version": 3
   },
   "file_extension": ".py",
   "mimetype": "text/x-python",
   "name": "python",
   "nbconvert_exporter": "python",
   "pygments_lexer": "ipython3",
   "version": "3.11.0"
  }
 },
 "nbformat": 4,
 "nbformat_minor": 2
}
